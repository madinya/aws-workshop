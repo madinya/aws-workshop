{
 "cells": [
  {
   "cell_type": "code",
   "execution_count": null,
   "metadata": {},
   "outputs": [],
   "source": [
    "import boto3\n",
    "s3_client = boto3.client('s3')\n"
   ]
  },
  {
   "cell_type": "code",
   "execution_count": null,
   "metadata": {},
   "outputs": [],
   "source": [
    "bucket_name = \"aws-workshop-dev-rmc-2023\""
   ]
  },
  {
   "cell_type": "code",
   "execution_count": null,
   "metadata": {},
   "outputs": [],
   "source": [
    "buckets = s3_client.list_buckets()\n",
    "buckets"
   ]
  },
  {
   "cell_type": "code",
   "execution_count": null,
   "metadata": {},
   "outputs": [],
   "source": [
    "buckets.get(\"Buckets\")"
   ]
  },
  {
   "cell_type": "code",
   "execution_count": null,
   "metadata": {},
   "outputs": [],
   "source": [
    "names = [bucket.get(\"Name\") for bucket in buckets.get(\"Buckets\")]\n",
    "names"
   ]
  },
  {
   "cell_type": "code",
   "execution_count": null,
   "metadata": {},
   "outputs": [],
   "source": [
    "#bucket_name = \"\"\n",
    "objects = s3_client.list_objects(Bucket=bucket_name)\n",
    "objects.get(\"Contents\") or f'Bucket {bucket_name} empty'\n"
   ]
  },
  {
   "cell_type": "code",
   "execution_count": null,
   "metadata": {},
   "outputs": [],
   "source": [
    "for file in objects.get(\"Contents\"):\n",
    "    print(file.get(\"Key\"))\n"
   ]
  },
  {
   "cell_type": "code",
   "execution_count": null,
   "metadata": {},
   "outputs": [],
   "source": [
    "from random import randint\n",
    "\n",
    "try:\n",
    "    source_path = \"dummy/important_file.txt\"\n",
    "    name_given = f\"roberto/idk_{randint(10,200)}.txt\"\n",
    "    s3_client.upload_file(source_path, bucket_name, name_given)\n",
    "    print(f\"El archivo {name_given} cuyo archivo de origen es {source_path} fue cargado con exito\")\n",
    "except Exception as e:\n",
    "    print(f\"Ocurrió un error al cargar el archivo en S3: {str(e)}\")"
   ]
  },
  {
   "cell_type": "markdown",
   "metadata": {},
   "source": [
    "SQS"
   ]
  },
  {
   "cell_type": "code",
   "execution_count": null,
   "metadata": {},
   "outputs": [],
   "source": [
    "import boto3\n",
    "sqs = boto3.client('sqs')"
   ]
  },
  {
   "cell_type": "code",
   "execution_count": null,
   "metadata": {},
   "outputs": [],
   "source": [
    "sqs.list_queues()"
   ]
  },
  {
   "cell_type": "code",
   "execution_count": null,
   "metadata": {},
   "outputs": [],
   "source": [
    "queue_name = \"aws-workshop-dev-rmc-2023\""
   ]
  },
  {
   "cell_type": "code",
   "execution_count": null,
   "metadata": {},
   "outputs": [],
   "source": [
    "response = sqs.get_queue_url(QueueName=queue_name)\n",
    "response"
   ]
  },
  {
   "cell_type": "code",
   "execution_count": null,
   "metadata": {},
   "outputs": [],
   "source": [
    "queue_url = response['QueueUrl']\n",
    "queue_url"
   ]
  },
  {
   "cell_type": "code",
   "execution_count": null,
   "metadata": {},
   "outputs": [],
   "source": [
    "try:\n",
    "    message = f\"type:WELCOME;user:roberto.madinya@ioet.com;hash:{randint(5,100)}\"\n",
    "    sqs.send_message(QueueUrl=queue_url, MessageBody=message)\n",
    "    print(f\"Mensaje {message} enviado correctamente\")\n",
    "except Exception as e:\n",
    "    print (f\"Error al enviar el mensaje {e}\")"
   ]
  },
  {
   "cell_type": "code",
   "execution_count": null,
   "metadata": {},
   "outputs": [],
   "source": [
    "try:\n",
    "    response = sqs.receive_message(QueueUrl=queue_url, MaxNumberOfMessages=1)\n",
    "    if 'Messages' in response:\n",
    "        mensaje = response['Messages'][0]\n",
    "        cuerpo_mensaje = mensaje['Body']\n",
    "\n",
    "        print(f\"Mensaje recibido de la cola '{queue_name}': {cuerpo_mensaje}\")\n",
    "\n",
    "        receipt_handle = mensaje['ReceiptHandle']\n",
    "        sqs.delete_message(QueueUrl=queue_url, ReceiptHandle=receipt_handle)\n",
    "        print(f\"Mensaje eliminado de la cola '{queue_name}'.\")\n",
    "    else:\n",
    "        print(f\"No se encontraron mensajes en la cola '{queue_name}'.\")\n",
    "except Exception as e:\n",
    "    print (f\"Error al enviar el mensaje {e}\")"
   ]
  },
  {
   "cell_type": "markdown",
   "metadata": {},
   "source": [
    "### DynamoDB"
   ]
  },
  {
   "cell_type": "code",
   "execution_count": null,
   "metadata": {},
   "outputs": [],
   "source": [
    "import boto3\n",
    "dynamodb = boto3.client('dynamodb')"
   ]
  },
  {
   "cell_type": "code",
   "execution_count": null,
   "metadata": {},
   "outputs": [],
   "source": [
    "table_name = \"aws-workshop-dev-rmc-2023\""
   ]
  },
  {
   "cell_type": "code",
   "execution_count": null,
   "metadata": {},
   "outputs": [],
   "source": [
    "response = dynamodb.scan(\n",
    "    TableName=table_name\n",
    ")\n",
    "\n",
    "items = response.get('Items', [])\n",
    "items"
   ]
  },
  {
   "cell_type": "code",
   "execution_count": null,
   "metadata": {},
   "outputs": [],
   "source": [
    "item = {\n",
    "    'id': {'S': f'{randint(1,200)}'},  \n",
    "    'genre': {'S': 'M'}, \n",
    "    'first_name': {'S': 'Roberto'},\n",
    "    'age': {'N': '33'}\n",
    "}"
   ]
  },
  {
   "cell_type": "code",
   "execution_count": null,
   "metadata": {},
   "outputs": [],
   "source": [
    "item = {\n",
    "    'id': {'S': f'{randint(1,200)}'},  \n",
    "    'first_name': {'S': 'Daysi'},\n",
    "    'genre': {'S': 'F'},     \n",
    "    'lastName' : {'S': 'Orellana'},\n",
    "    'country': {'S': \"EC\"},\n",
    "    'civilState' : {'S': \"Single\"},\n",
    "}"
   ]
  },
  {
   "cell_type": "code",
   "execution_count": null,
   "metadata": {},
   "outputs": [],
   "source": [
    "item = {\n",
    "    'id': {'S': f'{randint(1,200)}'},  \n",
    "    'first_name': {'S': 'Marcela'},\n",
    "    'genre': {'S': 'F'},     \n",
    "    'country': {'S': \"USA\"},\n",
    "    'state' : {'S': \"UT\"},\n",
    "    'age': {'N': '31'}\n",
    "}"
   ]
  },
  {
   "cell_type": "code",
   "execution_count": null,
   "metadata": {},
   "outputs": [],
   "source": [
    "try:\n",
    "    response = dynamodb.put_item(\n",
    "        TableName=table_name,\n",
    "        Item=item\n",
    "    )\n",
    "    print(f\"Elemento {item} creado en la tabla '{table_name}'.\")\n",
    "except Exception as e:\n",
    "    print (e)"
   ]
  },
  {
   "cell_type": "code",
   "execution_count": null,
   "metadata": {},
   "outputs": [],
   "source": [
    "response = dynamodb.scan(\n",
    "    TableName=table_name,\n",
    "    FilterExpression='genre = :genre',\n",
    "    ExpressionAttributeValues={\n",
    "        ':genre': {'S': 'M'}\n",
    "    }    \n",
    ")\n",
    "\n",
    "items = response.get('Items', [])\n",
    "items"
   ]
  },
  {
   "cell_type": "code",
   "execution_count": null,
   "metadata": {},
   "outputs": [],
   "source": [
    "key = {\n",
    "    'id': {'S': '26'}  \n",
    "}\n",
    "\n",
    "response = dynamodb.get_item(\n",
    "    TableName=table_name,\n",
    "    Key=key\n",
    ")\n",
    "\n",
    "item = response.get('Item') or 'Not found'\n",
    "item"
   ]
  },
  {
   "cell_type": "code",
   "execution_count": null,
   "metadata": {},
   "outputs": [],
   "source": [
    "key = {\n",
    "    'id': {'S': '146'}  \n",
    "}\n",
    "try:\n",
    "    response = dynamodb.delete_item(\n",
    "        TableName=table_name,\n",
    "        Key=key\n",
    "    )\n",
    "except Exception as e:\n",
    "    print (e)\n",
    "\n",
    "response\n"
   ]
  },
  {
   "cell_type": "code",
   "execution_count": null,
   "metadata": {},
   "outputs": [],
   "source": [
    "key = {\n",
    "    'id': {'S': '26'}  \n",
    "}\n",
    "\n",
    "update_expression = 'SET first_name = :first_name'\n",
    "expression_attribute_values = {\n",
    "    ':first_name': {'S': 'Name modified'}  \n",
    "}\n",
    "try:\n",
    "    response = dynamodb.update_item(\n",
    "        TableName=table_name,\n",
    "        Key=key,\n",
    "        UpdateExpression=update_expression,\n",
    "        ExpressionAttributeValues=expression_attribute_values,\n",
    "        ReturnValues='UPDATED_NEW'\n",
    "    )\n",
    "    updated_item = response.get('Attributes')\n",
    "    if updated_item:\n",
    "        print(f\"Elemento actualizado en la tabla '{table_name}': {updated_item}\")\n",
    "    else:\n",
    "        print(f\"No se pudo actualizar el elemento.\")\n",
    "except Exception as e:\n",
    "    print (e)"
   ]
  },
  {
   "cell_type": "code",
   "execution_count": null,
   "metadata": {},
   "outputs": [],
   "source": []
  }
 ],
 "metadata": {
  "kernelspec": {
   "display_name": ".venv",
   "language": "python",
   "name": "python3"
  },
  "language_info": {
   "codemirror_mode": {
    "name": "ipython",
    "version": 3
   },
   "file_extension": ".py",
   "mimetype": "text/x-python",
   "name": "python",
   "nbconvert_exporter": "python",
   "pygments_lexer": "ipython3",
   "version": "3.11.4"
  },
  "orig_nbformat": 4
 },
 "nbformat": 4,
 "nbformat_minor": 2
}
