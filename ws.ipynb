{
 "cells": [
  {
   "cell_type": "markdown",
   "metadata": {},
   "source": [
    "# S3"
   ]
  },
  {
   "cell_type": "code",
   "execution_count": null,
   "metadata": {},
   "outputs": [],
   "source": [
    "import boto3\n",
    "s3_client = boto3.client(\"s3\")"
   ]
  },
  {
   "cell_type": "code",
   "execution_count": null,
   "metadata": {},
   "outputs": [],
   "source": [
    "sufix = \"rmc-2023\""
   ]
  },
  {
   "cell_type": "code",
   "execution_count": null,
   "metadata": {},
   "outputs": [],
   "source": [
    "bucket_name = f\"aws-workshop-dev-{sufix}\"\n",
    "bucket_name"
   ]
  },
  {
   "cell_type": "code",
   "execution_count": null,
   "metadata": {},
   "outputs": [],
   "source": [
    "buckets = s3_client.list_buckets()\n",
    "buckets"
   ]
  },
  {
   "cell_type": "markdown",
   "metadata": {},
   "source": [
    "## GET"
   ]
  },
  {
   "cell_type": "code",
   "execution_count": null,
   "metadata": {},
   "outputs": [],
   "source": [
    "buckets.get(\"Buckets\")"
   ]
  },
  {
   "cell_type": "code",
   "execution_count": null,
   "metadata": {},
   "outputs": [],
   "source": [
    "names = [bucket.get(\"Name\") for bucket in buckets.get(\"Buckets\")]\n",
    "names"
   ]
  },
  {
   "cell_type": "code",
   "execution_count": null,
   "metadata": {},
   "outputs": [],
   "source": [
    "#bucket_name = \"\"\n",
    "objects = s3_client.list_objects(Bucket=bucket_name)\n",
    "objects.get(\"Contents\") or f\"Bucket {bucket_name} is empty\""
   ]
  },
  {
   "cell_type": "code",
   "execution_count": null,
   "metadata": {},
   "outputs": [],
   "source": [
    "for file in objects.get(\"Contents\"):\n",
    "    print(file.get(\"Key\"))"
   ]
  },
  {
   "cell_type": "markdown",
   "metadata": {},
   "source": [
    "## CREATE"
   ]
  },
  {
   "cell_type": "code",
   "execution_count": null,
   "metadata": {},
   "outputs": [],
   "source": [
    "import io\n",
    "from reportlab.pdfgen import canvas\n",
    "from random import randint\n",
    "\n",
    "\n",
    "params = {\"first_name\": \"Scarlett\", \"last_name\": \"Johansson\"}\n",
    "\n",
    "\n",
    "def generate_pdf(params):\n",
    "    buffer = io.BytesIO()\n",
    "    p = canvas.Canvas(buffer)\n",
    "    p.drawString(100, 100, f\"Name: {params.get('first_name')}\")\n",
    "    p.drawString(100, 150, f\"Last Name: {params.get('last_name')}\")\n",
    "    p.save()\n",
    "    return buffer\n",
    "\n",
    "\n",
    "try:\n",
    "    s3 = boto3.resource(\"s3\")\n",
    "    object_key = f\"pdfs/my_pdf{randint(1,100)}.pdf\"\n",
    "    s3.Object(bucket_name, object_key).put(Body=generate_pdf(params))\n",
    "    print(f\"El archivo {object_key} fue cargado con exito\")\n",
    "except Exception as e:\n",
    "    print(f\"Ocurrió un error al cargar el archivo en S3: {str(e)}\")"
   ]
  },
  {
   "cell_type": "code",
   "execution_count": null,
   "metadata": {},
   "outputs": [],
   "source": [
    "from random import randint\n",
    "\n",
    "try:\n",
    "    source_path = \"dummy/important_file.txt\"\n",
    "    name_given = f\"roberto/idk_{randint(10,200)}.txt\"\n",
    "    s3_client.upload_file(source_path, bucket_name, name_given)\n",
    "    print(\n",
    "        f\"El archivo {name_given} cuyo archivo de origen es {source_path} fue cargado con exito\")\n",
    "except Exception as e:\n",
    "    print(f\"Ocurrió un error al cargar el archivo en S3: {str(e)}\")"
   ]
  },
  {
   "cell_type": "code",
   "execution_count": null,
   "metadata": {},
   "outputs": [],
   "source": [
    "s3_client.upload_file?"
   ]
  },
  {
   "cell_type": "markdown",
   "metadata": {},
   "source": [
    "## DELETE"
   ]
  },
  {
   "cell_type": "code",
   "execution_count": null,
   "metadata": {},
   "outputs": [],
   "source": [
    "folder_name = \"pdf\"\n",
    "\n",
    "objects = s3_client.list_objects(Bucket=bucket_name, Prefix=folder_name)\n",
    "\n",
    "if 'Contents' in objects:\n",
    "    for obj in objects['Contents']:\n",
    "        s3_client.delete_object(Bucket=bucket_name, Key=obj['Key'])\n",
    "        print(f\"Eliminando objeto: {obj['Key']}\")\n",
    "else:\n",
    "    print(f\"No se encontraron objetos en la carpeta: {folder_name}\")\n"
   ]
  },
  {
   "cell_type": "markdown",
   "metadata": {},
   "source": [
    "# SQS"
   ]
  },
  {
   "cell_type": "code",
   "execution_count": null,
   "metadata": {},
   "outputs": [],
   "source": [
    "import boto3\n",
    "sqs = boto3.client(\"sqs\")"
   ]
  },
  {
   "cell_type": "code",
   "execution_count": null,
   "metadata": {},
   "outputs": [],
   "source": [
    "sqs.list_queues()"
   ]
  },
  {
   "cell_type": "code",
   "execution_count": null,
   "metadata": {},
   "outputs": [],
   "source": [
    "queue_name = f\"aws-workshop-dev-{sufix}\"\n",
    "queue_name"
   ]
  },
  {
   "cell_type": "code",
   "execution_count": null,
   "metadata": {},
   "outputs": [],
   "source": [
    "response = sqs.get_queue_url(QueueName=queue_name)\n",
    "response"
   ]
  },
  {
   "cell_type": "code",
   "execution_count": null,
   "metadata": {},
   "outputs": [],
   "source": [
    "queue_url = response[\"QueueUrl\"]\n",
    "queue_url"
   ]
  },
  {
   "cell_type": "code",
   "execution_count": null,
   "metadata": {},
   "outputs": [],
   "source": [
    "import json\n",
    "from random import randint\n",
    "\n",
    "\n",
    "param = {\n",
    "    \"type\": \"Welcome\",\n",
    "    \"first_name\": \"Roberto\",\n",
    "    \"last_name\": \"Madinyá\",\n",
    "    \"email\": \"roberto.madinya@ioet.com\",\n",
    "    \"hash\": randint(5, 100)\n",
    "}\n",
    "\n",
    "def save_in_db(user):\n",
    "    print(f\"{user.get('first_name')} Saved into my db\")\n",
    "\n",
    "\n",
    "def notify_new_user():\n",
    "    try:\n",
    "        message = json.dumps(param)\n",
    "        # message = f\"type:WELCOME;user:roberto.madinya@ioet.com;hash:{randint(5,100)}\"\n",
    "        sqs.send_message(QueueUrl=queue_url, MessageBody=message)\n",
    "        print(f\"Mensaje {message} enviado correctamente\")\n",
    "    except Exception as e:\n",
    "        print(f\"Error al enviar el mensaje {e}\")\n",
    "\n",
    "\n",
    "def sign_up():\n",
    "    save_in_db(param)\n",
    "    notify_new_user()\n",
    "\n",
    "\n",
    "sign_up()"
   ]
  },
  {
   "cell_type": "code",
   "execution_count": null,
   "metadata": {},
   "outputs": [],
   "source": [
    "def upload_to_s3():\n",
    "    print(\"Saving into S3\")\n",
    "\n",
    "def generate_pdf(message):\n",
    "    print(f\"Generating pdf with this content {message}\")\n",
    "    upload_to_s3()\n",
    "\n",
    "try:\n",
    "    response = sqs.receive_message(QueueUrl=queue_url, MaxNumberOfMessages=1)\n",
    "    if \"Messages\" in response:\n",
    "        mensaje = response[\"Messages\"][0]\n",
    "        body = mensaje[\"Body\"]\n",
    "\n",
    "        generate_pdf(body)\n",
    "\n",
    "        receipt_handle = mensaje[\"ReceiptHandle\"]\n",
    "        sqs.delete_message(QueueUrl=queue_url, ReceiptHandle=receipt_handle)\n",
    "    else:\n",
    "        print(f\"No se encontraron mensajes en la cola '{queue_name}''.\")\n",
    "except Exception as e:\n",
    "    print(f\"Error al enviar el mensaje {e}\")"
   ]
  },
  {
   "cell_type": "markdown",
   "metadata": {},
   "source": [
    "### DynamoDB"
   ]
  },
  {
   "cell_type": "code",
   "execution_count": null,
   "metadata": {},
   "outputs": [],
   "source": [
    "import boto3\n",
    "dynamodb = boto3.client(\"dynamodb\")"
   ]
  },
  {
   "cell_type": "code",
   "execution_count": null,
   "metadata": {},
   "outputs": [],
   "source": [
    "table_name = f\"aws-workshop-dev-{sufix}\""
   ]
  },
  {
   "cell_type": "code",
   "execution_count": null,
   "metadata": {},
   "outputs": [],
   "source": [
    "response = dynamodb.scan(\n",
    "    TableName=table_name\n",
    ")\n",
    "\n",
    "items = response.get(\"Items\", [])\n",
    "items"
   ]
  },
  {
   "cell_type": "code",
   "execution_count": null,
   "metadata": {},
   "outputs": [],
   "source": [
    "import json\n",
    "content = {\"genre\": \"F\",\n",
    "           \"first_name\":  \"Graciela\",\n",
    "           \"age\": 35\n",
    "           }\n",
    "item = {\n",
    "    \"id\": {\"S\": f\"{randint(1,200)}\"},\n",
    "    \"value\": {\"S\": json.dumps(content)}\n",
    "}"
   ]
  },
  {
   "cell_type": "code",
   "execution_count": null,
   "metadata": {},
   "outputs": [],
   "source": [
    "item = {\n",
    "    \"id\": {\"S\": f\"{randint(1,200)}\"},\n",
    "    \"genre\": {\"S\": \"M\"},\n",
    "    \"first_name\": {\"S\": \"Roberto\"},\n",
    "    \"age\": {\"N\": \"33\"}\n",
    "}"
   ]
  },
  {
   "cell_type": "code",
   "execution_count": null,
   "metadata": {},
   "outputs": [],
   "source": [
    "item = {\n",
    "    \"id\": {\"S\": f\"{randint(1,200)}\"},\n",
    "    \"first_name\": {\"S\": \"Daysi\"},\n",
    "    \"genre\": {\"S\": \"F\"},\n",
    "    \"lastName\": {\"S\": \"Orellana\"},\n",
    "    \"country\": {\"S\": \"EC\"},\n",
    "    \"civilState\": {\"S\": \"Single\"},\n",
    "}"
   ]
  },
  {
   "cell_type": "code",
   "execution_count": null,
   "metadata": {},
   "outputs": [],
   "source": [
    "item = {\n",
    "    \"id\": {\"S\": f\"{randint(1,200)}\"},\n",
    "    \"first_name\": {\"S\": \"Marcela\"},\n",
    "    \"genre\": {\"S\": \"F\"},\n",
    "    \"country\": {\"S\": \"USA\"},\n",
    "    \"state\": {\"S\": \"UT\"},\n",
    "    \"age\": {\"N\": \"31\"}\n",
    "}"
   ]
  },
  {
   "cell_type": "code",
   "execution_count": null,
   "metadata": {},
   "outputs": [],
   "source": [
    "try:\n",
    "    response = dynamodb.put_item(\n",
    "        TableName=table_name,\n",
    "        Item=item\n",
    "    )\n",
    "    print(f\"Elemento {item} creado en la tabla '{table_name}'.\")\n",
    "except Exception as e:\n",
    "    print(e)"
   ]
  },
  {
   "cell_type": "code",
   "execution_count": null,
   "metadata": {},
   "outputs": [],
   "source": [
    "response = dynamodb.scan(\n",
    "    TableName=table_name,\n",
    "    FilterExpression=\"genre = :genre\",\n",
    "    ExpressionAttributeValues={\n",
    "        \":genre\": {\"S\": \"F\"}\n",
    "    }\n",
    ")\n",
    "\n",
    "items = response.get(\"Items\", [])\n",
    "items"
   ]
  },
  {
   "cell_type": "code",
   "execution_count": null,
   "metadata": {},
   "outputs": [],
   "source": [
    "key = {\n",
    "    \"id\": {\"S\": \"26\"}\n",
    "}\n",
    "\n",
    "response = dynamodb.get_item(\n",
    "    TableName=table_name,\n",
    "    Key=key\n",
    ")\n",
    "\n",
    "item = response.get(\"Item\") or \"Not found\"\n",
    "item"
   ]
  },
  {
   "cell_type": "code",
   "execution_count": null,
   "metadata": {},
   "outputs": [],
   "source": [
    "key = {\n",
    "    \"id\": {\"S\": \"146\"}\n",
    "}\n",
    "try:\n",
    "    response = dynamodb.delete_item(\n",
    "        TableName=table_name,\n",
    "        Key=key\n",
    "    )\n",
    "except Exception as e:\n",
    "    print(e)\n",
    "\n",
    "response"
   ]
  },
  {
   "cell_type": "code",
   "execution_count": null,
   "metadata": {},
   "outputs": [],
   "source": [
    "key = {\n",
    "    \"id\": {\"S\": \"777\"}\n",
    "}\n",
    "\n",
    "update_expression = \"SET first_name = :first_name\"\n",
    "expression_attribute_values = {\n",
    "    \":first_name\": {\"S\": \"Name modified\"}\n",
    "}\n",
    "try:\n",
    "    response = dynamodb.update_item(\n",
    "        TableName=table_name,\n",
    "        Key=key,\n",
    "        UpdateExpression=update_expression,\n",
    "        ExpressionAttributeValues=expression_attribute_values,\n",
    "        ReturnValues=\"UPDATED_NEW\"\n",
    "    )\n",
    "    updated_item = response.get(\"Attributes\")\n",
    "    if updated_item:\n",
    "        print(f\"Elemento actualizado en la tabla '{table_name}': {updated_item}\")\n",
    "    else:\n",
    "        print(f\"No se pudo actualizar el elemento.\")\n",
    "except Exception as e:\n",
    "    print(e)"
   ]
  }
 ],
 "metadata": {
  "kernelspec": {
   "display_name": ".venv",
   "language": "python",
   "name": "python3"
  },
  "language_info": {
   "codemirror_mode": {
    "name": "ipython",
    "version": 3
   },
   "file_extension": ".py",
   "mimetype": "text/x-python",
   "name": "python",
   "nbconvert_exporter": "python",
   "pygments_lexer": "ipython3",
   "version": "3.11.4"
  },
  "orig_nbformat": 4
 },
 "nbformat": 4,
 "nbformat_minor": 2
}
